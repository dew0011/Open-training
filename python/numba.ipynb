{
 "cells": [
  {
   "cell_type": "markdown",
   "metadata": {},
   "source": [
    "# Numba\n",
    "Python optimisation library\n",
    "http://numba.pydata.org/\n",
    "\n",
    "Workthrough of examples from: https://gist.github.com/safijari/fa4eba922cea19b3bc6a693fe2a97af7 (used in https://www.youtube.com/watch?v=x58W9A2lnQc)\n",
    "\n",
    "## Numba is:\n",
    "- a 'just-in-time' compiler\n",
    "- works well with numpy arrays\n",
    "- allows you to speed-up and parallelise algorithms\n",
    "\n",
    "### Key take aways to remember\n",
    "- numba does not like lists, use numba 'typed lists' or arrays\n",
    "- preallocate the output array size in the function\n",
    "- use `njit()` to be aware if functions are reverting to python (e.g. due to dtype problems)\n",
    "- to use multiple threads remember to also set `nogil=True`\n",
    "\n",
    "## The nuts and bolts\n",
    "Numba is a 'just-in-time' compiler. The first time a function is run with numba it 'compiles' the function. This means:\n",
    "    - the first run will take longer due to the compilation process (maybe even than the original function without numba)\n",
    "    - subsequent runs however will be much faster"
   ]
  },
  {
   "cell_type": "code",
   "execution_count": 1,
   "metadata": {},
   "outputs": [
    {
     "name": "stdout",
     "output_type": "stream",
     "text": [
      "Populating the interactive namespace from numpy and matplotlib\n"
     ]
    }
   ],
   "source": [
    "%pylab inline"
   ]
  },
  {
   "cell_type": "code",
   "execution_count": 2,
   "metadata": {},
   "outputs": [],
   "source": [
    "from numba import jit, njit, types, vectorize"
   ]
  },
  {
   "cell_type": "code",
   "execution_count": 3,
   "metadata": {},
   "outputs": [],
   "source": [
    "def original_function(input_list):\n",
    "    output_list = []\n",
    "    for item in input_list:\n",
    "        if item % 2 == 0:\n",
    "            output_list.append(2)\n",
    "        else:\n",
    "            output_list.append('1')\n",
    "    return output_list\n",
    "\n",
    "test_list = list(range(100000))"
   ]
  },
  {
   "cell_type": "markdown",
   "metadata": {},
   "source": [
    "### dtypes\n",
    "The function above delibrately produces a list with mixed dtypes.\n",
    "\n",
    "Python happily mixes dtypes in lists. The numba `jit` function cannot do this. The function won't fail but it will not be optimised. Numba will default to 'object mode' which allows it to process the funtion similarly to the original python code, losing any advantages in processing time. "
   ]
  },
  {
   "cell_type": "code",
   "execution_count": 4,
   "metadata": {},
   "outputs": [
    {
     "name": "stdout",
     "output_type": "stream",
     "text": [
      "CPU times: user 10.8 ms, sys: 661 µs, total: 11.5 ms\n",
      "Wall time: 11.2 ms\n"
     ]
    },
    {
     "data": {
      "text/plain": [
       "[2, '1', 2, '1', 2, '1', 2, '1', 2, '1']"
      ]
     },
     "execution_count": 4,
     "metadata": {},
     "output_type": "execute_result"
    }
   ],
   "source": [
    "%%time\n",
    "original_function(test_list)[0:10]"
   ]
  },
  {
   "cell_type": "code",
   "execution_count": 5,
   "metadata": {},
   "outputs": [],
   "source": [
    "jitted_function = jit()(original_function)"
   ]
  },
  {
   "cell_type": "code",
   "execution_count": 6,
   "metadata": {},
   "outputs": [
    {
     "name": "stdout",
     "output_type": "stream",
     "text": [
      "CPU times: user 313 ms, sys: 16.7 ms, total: 329 ms\n",
      "Wall time: 341 ms\n"
     ]
    },
    {
     "data": {
      "text/plain": [
       "[2, '1', 2, '1', 2, '1', 2, '1', 2, '1']"
      ]
     },
     "execution_count": 6,
     "metadata": {},
     "output_type": "execute_result"
    }
   ],
   "source": [
    "%%time\n",
    "jitted_function(test_list)[0:10]"
   ]
  },
  {
   "cell_type": "code",
   "execution_count": 7,
   "metadata": {},
   "outputs": [
    {
     "name": "stdout",
     "output_type": "stream",
     "text": [
      "CPU times: user 33.9 ms, sys: 528 µs, total: 34.5 ms\n",
      "Wall time: 34.4 ms\n"
     ]
    },
    {
     "data": {
      "text/plain": [
       "[2, '1', 2, '1', 2, '1', 2, '1', 2, '1']"
      ]
     },
     "execution_count": 7,
     "metadata": {},
     "output_type": "execute_result"
    }
   ],
   "source": [
    "%%time\n",
    "jitted_function(test_list)[0:10]"
   ]
  },
  {
   "cell_type": "markdown",
   "metadata": {},
   "source": [
    "To return a true error instead of a warning you can set `nopython` to `True`. Or use the `njit` decorator which sets this as default. \n",
    "\n",
    "This helps prevent any inefficient code being sent to production."
   ]
  },
  {
   "cell_type": "code",
   "execution_count": 8,
   "metadata": {},
   "outputs": [],
   "source": [
    "#option 1\n",
    "jitted_function = jit(nopython=True)(original_function)"
   ]
  },
  {
   "cell_type": "code",
   "execution_count": 9,
   "metadata": {},
   "outputs": [],
   "source": [
    "#option 2\n",
    "jitted_function = njit()(original_function)"
   ]
  },
  {
   "cell_type": "code",
   "execution_count": 10,
   "metadata": {},
   "outputs": [
    {
     "ename": "TypingError",
     "evalue": "Failed in nopython mode pipeline (step: nopython frontend)\nInvalid use of BoundFunction(list.append for list(int64)<iv=None>) with parameters (Literal[str](1))\n\nDuring: resolving callee type: BoundFunction(list.append for list(int64)<iv=None>)\nDuring: typing of call at /var/folders/kj/wptb3bg14g7c1hb01sd555sc0000gn/T/ipykernel_3152/1571162156.py (7)\n\n\nFile \"../../../../../var/folders/kj/wptb3bg14g7c1hb01sd555sc0000gn/T/ipykernel_3152/1571162156.py\", line 7:\n<source missing, REPL/exec in use?>\n",
     "output_type": "error",
     "traceback": [
      "\u001b[0;31m---------------------------------------------------------------------------\u001b[0m",
      "\u001b[0;31mTypingError\u001b[0m                               Traceback (most recent call last)",
      "\u001b[0;32m/var/folders/kj/wptb3bg14g7c1hb01sd555sc0000gn/T/ipykernel_3152/3062439934.py\u001b[0m in \u001b[0;36m<module>\u001b[0;34m\u001b[0m\n\u001b[0;32m----> 1\u001b[0;31m \u001b[0mjitted_function\u001b[0m\u001b[0;34m(\u001b[0m\u001b[0mtest_list\u001b[0m\u001b[0;34m)\u001b[0m\u001b[0;34m[\u001b[0m\u001b[0;36m0\u001b[0m\u001b[0;34m:\u001b[0m\u001b[0;36m10\u001b[0m\u001b[0;34m]\u001b[0m\u001b[0;34m\u001b[0m\u001b[0;34m\u001b[0m\u001b[0m\n\u001b[0m",
      "\u001b[0;32m~/miniconda3/envs/numba/lib/python3.9/site-packages/numba/core/dispatcher.py\u001b[0m in \u001b[0;36m_compile_for_args\u001b[0;34m(self, *args, **kws)\u001b[0m\n\u001b[1;32m    480\u001b[0m                 \u001b[0me\u001b[0m\u001b[0;34m.\u001b[0m\u001b[0mpatch_message\u001b[0m\u001b[0;34m(\u001b[0m\u001b[0mmsg\u001b[0m\u001b[0;34m)\u001b[0m\u001b[0;34m\u001b[0m\u001b[0;34m\u001b[0m\u001b[0m\n\u001b[1;32m    481\u001b[0m \u001b[0;34m\u001b[0m\u001b[0m\n\u001b[0;32m--> 482\u001b[0;31m             \u001b[0merror_rewrite\u001b[0m\u001b[0;34m(\u001b[0m\u001b[0me\u001b[0m\u001b[0;34m,\u001b[0m \u001b[0;34m'typing'\u001b[0m\u001b[0;34m)\u001b[0m\u001b[0;34m\u001b[0m\u001b[0;34m\u001b[0m\u001b[0m\n\u001b[0m\u001b[1;32m    483\u001b[0m         \u001b[0;32mexcept\u001b[0m \u001b[0merrors\u001b[0m\u001b[0;34m.\u001b[0m\u001b[0mUnsupportedError\u001b[0m \u001b[0;32mas\u001b[0m \u001b[0me\u001b[0m\u001b[0;34m:\u001b[0m\u001b[0;34m\u001b[0m\u001b[0;34m\u001b[0m\u001b[0m\n\u001b[1;32m    484\u001b[0m             \u001b[0;31m# Something unsupported is present in the user code, add help info\u001b[0m\u001b[0;34m\u001b[0m\u001b[0;34m\u001b[0m\u001b[0m\n",
      "\u001b[0;32m~/miniconda3/envs/numba/lib/python3.9/site-packages/numba/core/dispatcher.py\u001b[0m in \u001b[0;36merror_rewrite\u001b[0;34m(e, issue_type)\u001b[0m\n\u001b[1;32m    421\u001b[0m                 \u001b[0;32mraise\u001b[0m \u001b[0me\u001b[0m\u001b[0;34m\u001b[0m\u001b[0;34m\u001b[0m\u001b[0m\n\u001b[1;32m    422\u001b[0m             \u001b[0;32melse\u001b[0m\u001b[0;34m:\u001b[0m\u001b[0;34m\u001b[0m\u001b[0;34m\u001b[0m\u001b[0m\n\u001b[0;32m--> 423\u001b[0;31m                 \u001b[0;32mraise\u001b[0m \u001b[0me\u001b[0m\u001b[0;34m.\u001b[0m\u001b[0mwith_traceback\u001b[0m\u001b[0;34m(\u001b[0m\u001b[0;32mNone\u001b[0m\u001b[0;34m)\u001b[0m\u001b[0;34m\u001b[0m\u001b[0;34m\u001b[0m\u001b[0m\n\u001b[0m\u001b[1;32m    424\u001b[0m \u001b[0;34m\u001b[0m\u001b[0m\n\u001b[1;32m    425\u001b[0m         \u001b[0margtypes\u001b[0m \u001b[0;34m=\u001b[0m \u001b[0;34m[\u001b[0m\u001b[0;34m]\u001b[0m\u001b[0;34m\u001b[0m\u001b[0;34m\u001b[0m\u001b[0m\n",
      "\u001b[0;31mTypingError\u001b[0m: Failed in nopython mode pipeline (step: nopython frontend)\nInvalid use of BoundFunction(list.append for list(int64)<iv=None>) with parameters (Literal[str](1))\n\nDuring: resolving callee type: BoundFunction(list.append for list(int64)<iv=None>)\nDuring: typing of call at /var/folders/kj/wptb3bg14g7c1hb01sd555sc0000gn/T/ipykernel_3152/1571162156.py (7)\n\n\nFile \"../../../../../var/folders/kj/wptb3bg14g7c1hb01sd555sc0000gn/T/ipykernel_3152/1571162156.py\", line 7:\n<source missing, REPL/exec in use?>\n"
     ]
    }
   ],
   "source": [
    "jitted_function(test_list)[0:10]"
   ]
  },
  {
   "cell_type": "markdown",
   "metadata": {},
   "source": [
    "### Lists\n",
    "You should avoid using python lists with numba wherever possible,use numpy arrays or the numba typed list instead. Numba requires as additional 'reflection' step to determine what is happening in a list which again slows down processing time.\n",
    "\n",
    "This is demonstrated below where we now pass only integers to the list but the jitted function is still slower than the base function itself. \n",
    "\n",
    "- https://numba.pydata.org/numba-doc/dev/reference/pysupported.html#list\n",
    "- https://numba.readthedocs.io/en/stable/reference/pysupported.html?highlight=list#typed-list"
   ]
  },
  {
   "cell_type": "code",
   "execution_count": 11,
   "metadata": {},
   "outputs": [],
   "source": [
    "def modified_function(input_list):\n",
    "    output_list = []\n",
    "    for item in input_list:\n",
    "        if item % 2 == 0:\n",
    "            output_list.append(2)\n",
    "        else:\n",
    "            output_list.append(1)\n",
    "    return output_list\n",
    "\n",
    "test_list = list(range(100000))"
   ]
  },
  {
   "cell_type": "code",
   "execution_count": 12,
   "metadata": {},
   "outputs": [
    {
     "name": "stdout",
     "output_type": "stream",
     "text": [
      "CPU times: user 8.6 ms, sys: 245 µs, total: 8.84 ms\n",
      "Wall time: 8.84 ms\n"
     ]
    },
    {
     "data": {
      "text/plain": [
       "[2, 1, 2, 1, 2, 1, 2, 1, 2, 1]"
      ]
     },
     "execution_count": 12,
     "metadata": {},
     "output_type": "execute_result"
    }
   ],
   "source": [
    "%%time\n",
    "modified_function(test_list)[0:10]"
   ]
  },
  {
   "cell_type": "code",
   "execution_count": 13,
   "metadata": {},
   "outputs": [],
   "source": [
    "jitted_function = jit()(modified_function)"
   ]
  },
  {
   "cell_type": "code",
   "execution_count": 14,
   "metadata": {},
   "outputs": [
    {
     "name": "stdout",
     "output_type": "stream",
     "text": [
      "CPU times: user 198 ms, sys: 3.88 ms, total: 202 ms\n",
      "Wall time: 202 ms\n"
     ]
    },
    {
     "data": {
      "text/plain": [
       "[2, 1, 2, 1, 2, 1, 2, 1, 2, 1]"
      ]
     },
     "execution_count": 14,
     "metadata": {},
     "output_type": "execute_result"
    }
   ],
   "source": [
    "%%time\n",
    "jitted_function(test_list)[0:10]"
   ]
  },
  {
   "cell_type": "markdown",
   "metadata": {},
   "source": [
    "Changing the function to use a numpy array instead (N.B. this actually slows down the original function)"
   ]
  },
  {
   "cell_type": "code",
   "execution_count": 15,
   "metadata": {},
   "outputs": [],
   "source": [
    "def modified_function(input_list):\n",
    "    output_list = []\n",
    "    for item in input_list:\n",
    "        if item % 2 == 0:\n",
    "            output_list.append(2)\n",
    "        else:\n",
    "            output_list.append(1)\n",
    "    return output_list\n",
    "\n",
    "test_array = np.arange(100000)"
   ]
  },
  {
   "cell_type": "code",
   "execution_count": 16,
   "metadata": {},
   "outputs": [
    {
     "name": "stdout",
     "output_type": "stream",
     "text": [
      "CPU times: user 41.7 ms, sys: 1.76 ms, total: 43.5 ms\n",
      "Wall time: 48.9 ms\n"
     ]
    },
    {
     "data": {
      "text/plain": [
       "[2, 1, 2, 1, 2, 1, 2, 1, 2, 1]"
      ]
     },
     "execution_count": 16,
     "metadata": {},
     "output_type": "execute_result"
    }
   ],
   "source": [
    "%%time\n",
    "modified_function(test_array)[0:10]"
   ]
  },
  {
   "cell_type": "code",
   "execution_count": 17,
   "metadata": {},
   "outputs": [],
   "source": [
    "jitted_function = jit()(modified_function)"
   ]
  },
  {
   "cell_type": "code",
   "execution_count": 18,
   "metadata": {},
   "outputs": [
    {
     "name": "stdout",
     "output_type": "stream",
     "text": [
      "CPU times: user 68.6 ms, sys: 2.53 ms, total: 71.1 ms\n",
      "Wall time: 71.2 ms\n"
     ]
    },
    {
     "data": {
      "text/plain": [
       "[2, 1, 2, 1, 2, 1, 2, 1, 2, 1]"
      ]
     },
     "execution_count": 18,
     "metadata": {},
     "output_type": "execute_result"
    }
   ],
   "source": [
    "%%time\n",
    "jitted_function(test_array)[0:10] \n",
    "#run more than once to see time after compilation"
   ]
  },
  {
   "cell_type": "markdown",
   "metadata": {},
   "source": [
    "### Vectorise\n",
    "Allows you to rewrite a function as a scalar computation. The function is written to run on a single element but we can call this on an array (seems similar to a lambda fuction). \n",
    "\n",
    "The first time we call this function it will take an extra long time, as numba is unsure of what size output list to create. The second run numba will optimise this, significantly dropping the processing time. "
   ]
  },
  {
   "cell_type": "code",
   "execution_count": 19,
   "metadata": {},
   "outputs": [],
   "source": [
    "@vectorize(nopython=True)\n",
    "def non_list_function(item):\n",
    "    if item % 2 == 0:\n",
    "        return 2\n",
    "    else:\n",
    "        return 1"
   ]
  },
  {
   "cell_type": "code",
   "execution_count": 20,
   "metadata": {},
   "outputs": [
    {
     "name": "stdout",
     "output_type": "stream",
     "text": [
      "CPU times: user 41.3 ms, sys: 1.81 ms, total: 43.1 ms\n",
      "Wall time: 42.2 ms\n"
     ]
    },
    {
     "data": {
      "text/plain": [
       "array([2, 1, 2, ..., 1, 2, 1])"
      ]
     },
     "execution_count": 20,
     "metadata": {},
     "output_type": "execute_result"
    }
   ],
   "source": [
    "%%time\n",
    "non_list_function(test_array)"
   ]
  },
  {
   "cell_type": "code",
   "execution_count": 21,
   "metadata": {},
   "outputs": [
    {
     "name": "stdout",
     "output_type": "stream",
     "text": [
      "CPU times: user 481 µs, sys: 460 µs, total: 941 µs\n",
      "Wall time: 573 µs\n"
     ]
    },
    {
     "data": {
      "text/plain": [
       "array([2, 1, 2, ..., 1, 2, 1])"
      ]
     },
     "execution_count": 21,
     "metadata": {},
     "output_type": "execute_result"
    }
   ],
   "source": [
    "%%time\n",
    "non_list_function(test_array)"
   ]
  },
  {
   "cell_type": "markdown",
   "metadata": {},
   "source": [
    "We can modify the original function to act like vectorise by setting the size of the output (in this example setting the output array size based on the input array size. The second run demonstrates similar speed improvements to vectorise. "
   ]
  },
  {
   "cell_type": "code",
   "execution_count": 22,
   "metadata": {},
   "outputs": [],
   "source": [
    "@njit\n",
    "def allocated_func(input_list):\n",
    "    output_list = np.zeros_like(input_list)\n",
    "    for ii, item in enumerate(input_list):\n",
    "        if item % 2 == 0:\n",
    "            output_list[ii] = 2\n",
    "        else:\n",
    "            output_list[ii] = 1\n",
    "    return output_list\n"
   ]
  },
  {
   "cell_type": "code",
   "execution_count": 23,
   "metadata": {},
   "outputs": [
    {
     "name": "stdout",
     "output_type": "stream",
     "text": [
      "CPU times: user 102 ms, sys: 7.04 ms, total: 109 ms\n",
      "Wall time: 115 ms\n"
     ]
    },
    {
     "data": {
      "text/plain": [
       "array([2, 1, 2, 1, 2, 1, 2, 1, 2, 1])"
      ]
     },
     "execution_count": 23,
     "metadata": {},
     "output_type": "execute_result"
    }
   ],
   "source": [
    "%%time\n",
    "allocated_func(test_array)[0:10]"
   ]
  },
  {
   "cell_type": "code",
   "execution_count": 24,
   "metadata": {},
   "outputs": [
    {
     "name": "stdout",
     "output_type": "stream",
     "text": [
      "CPU times: user 254 µs, sys: 294 µs, total: 548 µs\n",
      "Wall time: 838 µs\n"
     ]
    },
    {
     "data": {
      "text/plain": [
       "array([2, 1, 2, 1, 2, 1, 2, 1, 2, 1])"
      ]
     },
     "execution_count": 24,
     "metadata": {},
     "output_type": "execute_result"
    }
   ],
   "source": [
    "%%time\n",
    "allocated_func(test_array)[0:10] "
   ]
  },
  {
   "cell_type": "markdown",
   "metadata": {},
   "source": [
    "### Threads\n",
    "To further increase numba performance we can request that it runs using more than one thread. \n",
    "\n",
    "First we define a function to simulate a spring-mass-damper system with wet and dry friction. "
   ]
  },
  {
   "cell_type": "code",
   "execution_count": 25,
   "metadata": {},
   "outputs": [],
   "source": [
    "def friction_fn(v, vt):\n",
    "    if v > vt:\n",
    "        return - v * 3\n",
    "    else:\n",
    "        return - vt * 3 * np.sign(v)\n",
    "\n",
    "def simulate_spring_mass_funky_damper(x0, T=10, dt=0.0001, vt=1.0):\n",
    "    times = np.arange(0, T, dt)\n",
    "    positions = np.zeros_like(times)\n",
    "    \n",
    "    v = 0\n",
    "    a = 0\n",
    "    x = x0\n",
    "    positions[0] = x0/x0\n",
    "    \n",
    "    for ii in range(len(times)):\n",
    "        if ii == 0:\n",
    "            continue\n",
    "        t = times[ii]\n",
    "        a = friction_fn(v, vt) - 100*x\n",
    "        v = v + a*dt\n",
    "        x = x + v*dt\n",
    "        positions[ii] = x/x0\n",
    "    return times, positions"
   ]
  },
  {
   "cell_type": "code",
   "execution_count": 26,
   "metadata": {},
   "outputs": [
    {
     "data": {
      "text/plain": [
       "<matplotlib.legend.Legend at 0x7f7f787c1dc0>"
      ]
     },
     "execution_count": 26,
     "metadata": {},
     "output_type": "execute_result"
    },
    {
     "data": {
      "image/png": "[encoded data removed]",
      "text/plain": [
       "<Figure size 432x288 with 1 Axes>"
      ]
     },
     "metadata": {
      "needs_background": "light"
     },
     "output_type": "display_data"
    }
   ],
   "source": [
    "plot(*simulate_spring_mass_funky_damper(0.1))\n",
    "plot(*simulate_spring_mass_funky_damper(1))\n",
    "plot(*simulate_spring_mass_funky_damper(10))\n",
    "legend(['0.1', '1', '10'])"
   ]
  },
  {
   "cell_type": "code",
   "execution_count": 27,
   "metadata": {},
   "outputs": [
    {
     "name": "stdout",
     "output_type": "stream",
     "text": [
      "CPU times: user 178 ms, sys: 1.44 ms, total: 180 ms\n",
      "Wall time: 179 ms\n"
     ]
    }
   ],
   "source": [
    "%time _ = simulate_spring_mass_funky_damper(0.1)"
   ]
  },
  {
   "cell_type": "markdown",
   "metadata": {},
   "source": [
    "Now we use numba and add njit decorators."
   ]
  },
  {
   "cell_type": "code",
   "execution_count": 29,
   "metadata": {},
   "outputs": [],
   "source": [
    "@njit\n",
    "def friction_fn(v, vt):\n",
    "    if v > vt:\n",
    "        return - v * 3\n",
    "    else:\n",
    "        return - vt * 3 * np.sign(v)\n",
    "\n",
    "@njit\n",
    "def simulate_spring_mass_funky_damper(x0, T=10, dt=0.0001, vt=1.0):\n",
    "    times = np.arange(0, T, dt)\n",
    "    positions = np.zeros_like(times)\n",
    "    \n",
    "    v = 0\n",
    "    a = 0\n",
    "    x = x0\n",
    "    positions[0] = x0/x0\n",
    "    \n",
    "    for ii in range(len(times)):\n",
    "        if ii == 0:\n",
    "            continue\n",
    "        t = times[ii]\n",
    "        a = friction_fn(v, vt) - 100*x\n",
    "        v = v + a*dt\n",
    "        x = x + v*dt\n",
    "        positions[ii] = x/x0\n",
    "    return times, positions\n",
    "\n",
    "#compile\n",
    "_ = simulate_spring_mass_funky_damper(0.1)"
   ]
  },
  {
   "cell_type": "code",
   "execution_count": 30,
   "metadata": {},
   "outputs": [
    {
     "name": "stdout",
     "output_type": "stream",
     "text": [
      "CPU times: user 1.51 ms, sys: 329 µs, total: 1.84 ms\n",
      "Wall time: 1.84 ms\n"
     ]
    }
   ],
   "source": [
    "%time _ = simulate_spring_mass_funky_damper(0.1)"
   ]
  },
  {
   "cell_type": "markdown",
   "metadata": {},
   "source": [
    "This decreases the runtime significantly.\n",
    "\n",
    "Now we also employ multiple threads. N.B. that by default numba does not release the 'global interpreter lock' or 'GIL' so we have to also explicitly request this in the function, when we use the `ThreadPoolExecutor`.\n",
    "\n",
    "Side note: GIL\n",
    "- https://wiki.python.org/moin/GlobalInterpreterLock\n",
    "- https://python.land/python-concurrency/the-python-gil\n",
    "> \"In CPython, the global interpreter lock, or GIL, is a mutex that protects access to Python objects, preventing multiple threads from executing Python bytecodes at once. The GIL prevents race conditions and ensures thread safety\""
   ]
  },
  {
   "cell_type": "code",
   "execution_count": 31,
   "metadata": {},
   "outputs": [],
   "source": [
    "@njit(nogil=True)\n",
    "def friction_fn(v, vt):\n",
    "    if v > vt:\n",
    "        return - v * 3\n",
    "    else:\n",
    "        return - vt * 3 * np.sign(v)\n",
    "\n",
    "@njit(nogil=True)\n",
    "def simulate_spring_mass_funky_damper(x0, T=10, dt=0.0001, vt=1.0):\n",
    "    times = np.arange(0, T, dt)\n",
    "    positions = np.zeros_like(times)\n",
    "    \n",
    "    v = 0\n",
    "    a = 0\n",
    "    x = x0\n",
    "    positions[0] = x0/x0\n",
    "    \n",
    "    for ii in range(len(times)):\n",
    "        if ii == 0:\n",
    "            continue\n",
    "        t = times[ii]\n",
    "        a = friction_fn(v, vt) - 100*x\n",
    "        v = v + a*dt\n",
    "        x = x + v*dt\n",
    "        positions[ii] = x/x0\n",
    "    return times, positions\n",
    "\n",
    "# compile\n",
    "_ = simulate_spring_mass_funky_damper(0.1)"
   ]
  },
  {
   "cell_type": "code",
   "execution_count": 32,
   "metadata": {},
   "outputs": [
    {
     "name": "stdout",
     "output_type": "stream",
     "text": [
      "CPU times: user 10.3 s, sys: 231 ms, total: 10.6 s\n",
      "Wall time: 2.13 s\n"
     ]
    }
   ],
   "source": [
    "%%time\n",
    "from concurrent.futures import ThreadPoolExecutor\n",
    "\n",
    "with ThreadPoolExecutor(8) as ex:\n",
    "    ex.map(simulate_spring_mass_funky_damper, np.arange(0, 1000, 0.1))\n"
   ]
  },
  {
   "cell_type": "markdown",
   "metadata": {},
   "source": [
    "Now we have run the function 1000 times in just over 2 seconds!\n",
    "\n",
    "We don't actually have to call the `ThreadPoolExecutor` directly and can instead setup a wrapper to do this for us. This wrapper must set the `nogil=True, parallel=True` parameters and include the `prange` function which asks numba to run the function in parallel if possible to do so. "
   ]
  },
  {
   "cell_type": "code",
   "execution_count": 33,
   "metadata": {},
   "outputs": [
    {
     "name": "stderr",
     "output_type": "stream",
     "text": [
      "OMP: Info #271: omp_set_nested routine deprecated, please use omp_set_max_active_levels instead.\n"
     ]
    }
   ],
   "source": [
    "from numba import prange\n",
    "@njit(nogil=True, parallel=True)\n",
    "def run_sims(end=1000):\n",
    "    for x0 in prange(int(end/0.1)):\n",
    "        if x0 == 0:\n",
    "            continue\n",
    "        simulate_spring_mass_funky_damper(x0*0.1)\n",
    "        \n",
    "run_sims(10)"
   ]
  },
  {
   "cell_type": "code",
   "execution_count": 34,
   "metadata": {},
   "outputs": [
    {
     "name": "stdout",
     "output_type": "stream",
     "text": [
      "CPU times: user 9.97 s, sys: 149 ms, total: 10.1 s\n",
      "Wall time: 1.46 s\n"
     ]
    }
   ],
   "source": [
    "%%time\n",
    "run_sims(1000)"
   ]
  },
  {
   "cell_type": "markdown",
   "metadata": {},
   "source": [
    "### Numba and pandas\n",
    "https://pandas.pydata.org/pandas-docs/stable/user_guide/enhancingperf.html#numba-jit-compilation\n",
    "\n",
    "Some pandas methods offer a `engine=\"numba\"` keyword, to enable it directly. If defining your own python function, pandas dataframes or series should be transformed to numpy arrays using `to_numpy()`. \n",
    "\n",
    "The pandas website suggests that numba performs best when handling with 1 million + datapoints. Numba is best applied to numerical operations on arrays, as any unsupported function will revert to the slow `object mode`. \n",
    "\n",
    "#### Pandas methods with built-in numba\n",
    "As for all numba function, when run the first time these fucntions will be slower due to compilation. All methods with the `engine=\"numba\"` keyword also have a `engine_kwargs` keyword which takes a dictionary of parameters for the `@jot` decorator. By default the parameters are:\n",
    "`{\"nogil\": False, \"nopython\": True, \"parallel\": False}`\n",
    "\n",
    "Methods that can be used with numba include:\n",
    "- groupby\n",
    "- window\n",
    "- expanding\n",
    "- rolling"
   ]
  },
  {
   "cell_type": "code",
   "execution_count": 51,
   "metadata": {},
   "outputs": [
    {
     "name": "stdout",
     "output_type": "stream",
     "text": [
      "178 ms ± 0 ns per loop (mean ± std. dev. of 1 run, 1 loop each)\n",
      "71.1 µs ± 2.14 µs per loop (mean ± std. dev. of 7 runs, 10000 loops each)\n",
      "361 µs ± 1.66 µs per loop (mean ± std. dev. of 7 runs, 1000 loops each)\n"
     ]
    }
   ],
   "source": [
    "data = pd.Series(range(1_00))  # noqa: E225\n",
    "\n",
    "roll = data.rolling(10)\n",
    "\n",
    "def f(x):\n",
    "    return np.sum(x) + 5\n",
    "\n",
    "    \n",
    "# # Run the first time, compilation time will affect performance\n",
    "%timeit -r 1 -n 1 roll.apply(f, engine='numba', raw=True)\n",
    "\n",
    "# # Function is cached and performance will improve\n",
    "%timeit roll.apply(f, engine='numba', raw=True)\n",
    "\n",
    "%timeit roll.apply(f, engine='cython', raw=True)"
   ]
  },
  {
   "cell_type": "code",
   "execution_count": 52,
   "metadata": {},
   "outputs": [],
   "source": [
    "import numba\n",
    "\n",
    "def double_every_value_nonumba(x):\n",
    "    return x * 2\n",
    "\n",
    "@numba.vectorize\n",
    "def double_every_value_withnumba(x):  # noqa E501\n",
    "    return x * 2"
   ]
  },
  {
   "cell_type": "code",
   "execution_count": 56,
   "metadata": {},
   "outputs": [
    {
     "name": "stdout",
     "output_type": "stream",
     "text": [
      "32 µs ± 1.25 µs per loop (mean ± std. dev. of 7 runs, 10000 loops each)\n",
      "94.2 µs ± 4.14 µs per loop (mean ± std. dev. of 7 runs, 10000 loops each)\n",
      "1.6 µs ± 3.47 ns per loop (mean ± std. dev. of 7 runs, 1000000 loops each)\n"
     ]
    }
   ],
   "source": [
    "# Normal way to make this calculation without a function\n",
    "%timeit output = data * 2\n",
    "\n",
    "# Custom function without numba (slower than the normal way)\n",
    "%timeit output = data.apply(double_every_value_nonumba)\n",
    "\n",
    "# # Custom function with numba (much faster than both)\n",
    "%timeit output = double_every_value_withnumba(data.to_numpy())"
   ]
  }
 ],
 "metadata": {
  "interpreter": {
   "hash": "c59516a742d983ef2cb06a948931c46b3d232bd7166f15cd8ed7580f5eccc2bc"
  },
  "kernelspec": {
   "display_name": "Python 3.8.10 64-bit ('venv3.8': conda)",
   "language": "python",
   "name": "python3"
  },
  "language_info": {
   "codemirror_mode": {
    "name": "ipython",
    "version": 3
   },
   "file_extension": ".py",
   "mimetype": "text/x-python",
   "name": "python",
   "nbconvert_exporter": "python",
   "pygments_lexer": "ipython3",
   "version": "3.9.7"
  },
  "orig_nbformat": 4
 },
 "nbformat": 4,
 "nbformat_minor": 2
}
